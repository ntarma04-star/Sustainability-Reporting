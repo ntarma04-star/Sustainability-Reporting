{
 "cells": [
  {
   "cell_type": "code",
   "execution_count": 1,
   "id": "f1361169-a689-46f8-8b68-e60d44748dee",
   "metadata": {},
   "outputs": [
    {
     "name": "stdout",
     "output_type": "stream",
     "text": [
      "Column totals:\n",
      "Total_Waste_Tons: 9979.0\n",
      "Recycled_Tons: 7111.0\n",
      "Composted_Tons: 2960.0\n",
      "Landfilled_Tons: 4558.0\n",
      "Plastic_Recycled_Tons: 1947.0\n",
      "Paper_Recycled_Tons: 2546.0\n",
      "Metal_Recycled_Tons: 1158.0\n",
      "Glass_Recycled_Tons: 963.0\n",
      "Ewaste_Recycled_Tons: 311.0\n",
      "Grand Total = 31533.0\n"
     ]
    }
   ],
   "source": [
    "import csv\n",
    "\n",
    "file_path = \"/Users/augustineenninful/Downloads/recycling_data.csv\"\n",
    "\n",
    "columns_to_sum = [\n",
    "    'Total_Waste_Tons', 'Recycled_Tons', 'Composted_Tons', 'Landfilled_Tons',\n",
    "    'Plastic_Recycled_Tons', 'Paper_Recycled_Tons', 'Metal_Recycled_Tons',\n",
    "    'Glass_Recycled_Tons', 'Ewaste_Recycled_Tons'\n",
    "]\n",
    "\n",
    "with open(file_path, \"r\", encoding=\"latin-1\") as file:\n",
    "    reader = csv.DictReader(file)\n",
    "    column_sums = {col: 0 for col in columns_to_sum}  # keep a sum per column\n",
    "\n",
    "    for row in reader:\n",
    "        for col in columns_to_sum:\n",
    "            try:\n",
    "                column_sums[col] += float(row[col])\n",
    "            except (ValueError, KeyError):\n",
    "                pass  # skip blanks or bad data\n",
    "\n",
    "print(\"Column totals:\")\n",
    "for col, total in column_sums.items():\n",
    "    print(f\"{col}: {total}\")\n",
    "\n",
    "# If you want a grand total of all columns:\n",
    "grand_total = sum(column_sums.values())\n",
    "print(\"Grand Total =\", grand_total)\n"
   ]
  },
  {
   "cell_type": "code",
   "execution_count": null,
   "id": "1df5ab4e-2364-4f6d-9445-87aa77b4e44c",
   "metadata": {},
   "outputs": [],
   "source": []
  }
 ],
 "metadata": {
  "kernelspec": {
   "display_name": "Python 3 (ipykernel)",
   "language": "python",
   "name": "python3"
  },
  "language_info": {
   "codemirror_mode": {
    "name": "ipython",
    "version": 3
   },
   "file_extension": ".py",
   "mimetype": "text/x-python",
   "name": "python",
   "nbconvert_exporter": "python",
   "pygments_lexer": "ipython3",
   "version": "3.12.5"
  }
 },
 "nbformat": 4,
 "nbformat_minor": 5
}
